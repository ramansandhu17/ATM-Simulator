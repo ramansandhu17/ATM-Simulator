{
  "nbformat": 4,
  "nbformat_minor": 0,
  "metadata": {
    "colab": {
      "provenance": [],
      "authorship_tag": "ABX9TyPBdI4JUHzYCNLWKDZx80r7",
      "include_colab_link": true
    },
    "kernelspec": {
      "name": "python3",
      "display_name": "Python 3"
    },
    "language_info": {
      "name": "python"
    }
  },
  "cells": [
    {
      "cell_type": "markdown",
      "metadata": {
        "id": "view-in-github",
        "colab_type": "text"
      },
      "source": [
        "<a href=\"https://colab.research.google.com/github/ramansandhu17/ATM-Simulator/blob/main/ATM.ipynb\" target=\"_parent\"><img src=\"https://colab.research.google.com/assets/colab-badge.svg\" alt=\"Open In Colab\"/></a>"
      ]
    },
    {
      "cell_type": "code",
      "execution_count": 2,
      "metadata": {
        "id": "LvpWA1pyVWCX"
      },
      "outputs": [],
      "source": [
        "# Simple ATM Simulator\n",
        "#This project simulates a basic ATM with options to check balance, deposit money, and withdraw money.\n"
      ]
    },
    {
      "cell_type": "code",
      "source": [
        "# Initial balance\n",
        "check_balance = 40000.0\n",
        "\n",
        "def deposit_money(amount):\n",
        "    global check_balance\n",
        "    if amount > 0:\n",
        "        check_balance += amount\n",
        "        print(f\"${amount:.2f} deposited successfully.\")\n",
        "    else:\n",
        "        print(\"Invalid amount. Please enter a positive number.\")\n",
        "    return check_balance\n",
        "\n",
        "def withdraw_money():\n",
        "    global check_balance\n",
        "    withdraw = float(input(\"Please enter the amount to withdraw: \"))\n",
        "    if withdraw > 0:\n",
        "        if withdraw <= check_balance:\n",
        "            check_balance -= withdraw\n",
        "            print(f\"${withdraw:.2f} withdrawn successfully.\")\n",
        "        else:\n",
        "            print(\"Not enough funds to withdraw\")\n",
        "    else:\n",
        "        print(\"Invalid amount. Please enter a positive number.\")\n",
        "    return check_balance\n",
        "\n",
        "def main():\n",
        "    global check_balance\n",
        "    while True:\n",
        "        print(\"\\nWelcome to Raman's bank, please choose from the options below: \")\n",
        "        selection = int(input(\"1. Check balance \\n2. Deposit Money\\n3. Withdraw Money\\n4. Exit\\n\"))\n",
        "\n",
        "        if selection == 1:\n",
        "            print(f\"Your balance is: ${check_balance:.2f}\")\n",
        "        elif selection == 2:\n",
        "            amt = float(input(\"Please enter the amount you would like to deposit: \"))\n",
        "            new_bal = deposit_money(amt)\n",
        "            print(f\"Total balance in your account is: ${new_bal:.2f}\")\n",
        "        elif selection == 3:\n",
        "            new_bal = withdraw_money()\n",
        "            print(f\"Your new balance is: ${new_bal:.2f}\")\n",
        "        elif selection == 4:\n",
        "            print(\"Thank you for using Raman's bank. Goodbye!\")\n",
        "            break\n",
        "        else:\n",
        "            print(\"Invalid selection. Please choose an option from 1 to 4.\")\n",
        "\n",
        "# Run the main function\n",
        "main()\n"
      ],
      "metadata": {
        "colab": {
          "base_uri": "https://localhost:8080/"
        },
        "collapsed": true,
        "id": "VJGokyrOX5ea",
        "outputId": "58808e9d-572e-4745-8b9d-bf90cca6693a"
      },
      "execution_count": null,
      "outputs": [
        {
          "name": "stdout",
          "output_type": "stream",
          "text": [
            "\n",
            "Welcome to Raman's bank, please choose from the options below: \n",
            "1. Check balance \n",
            "2. Deposit Money\n",
            "3. Withdraw Money\n",
            "4. Exit\n",
            "3\n",
            "Please enter the amount to withdraw: 250\n",
            "$250.00 withdrawn successfully.\n",
            "Your new balance is: $39750.00\n",
            "\n",
            "Welcome to Raman's bank, please choose from the options below: \n",
            "1. Check balance \n",
            "2. Deposit Money\n",
            "3. Withdraw Money\n",
            "4. Exit\n",
            "2\n"
          ]
        }
      ]
    }
  ]
}