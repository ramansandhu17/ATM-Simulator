{
  "nbformat": 4,
  "nbformat_minor": 0,
  "metadata": {
    "colab": {
      "provenance": [],
      "authorship_tag": "ABX9TyM/jdVuTcvRSPwCsF1gn1EY",
      "include_colab_link": true
    },
    "kernelspec": {
      "name": "python3",
      "display_name": "Python 3"
    },
    "language_info": {
      "name": "python"
    }
  },
  "cells": [
    {
      "cell_type": "markdown",
      "metadata": {
        "id": "view-in-github",
        "colab_type": "text"
      },
      "source": [
        "<a href=\"https://colab.research.google.com/github/ramansandhu17/ATM-Simulator/blob/main/ATM.ipynb\" target=\"_parent\"><img src=\"https://colab.research.google.com/assets/colab-badge.svg\" alt=\"Open In Colab\"/></a>"
      ]
    },
    {
      "cell_type": "code",
      "execution_count": 2,
      "metadata": {
        "id": "LvpWA1pyVWCX"
      },
      "outputs": [],
      "source": [
        "# Simple ATM Simulator\n",
        "#This project simulates a basic ATM with options to check balance, deposit money, and withdraw money.\n"
      ]
    },
    {
      "cell_type": "code",
      "source": [
        "check_balance=40000\n",
        "\n",
        "def deposit_money():\n",
        "  global check_balance\n",
        "  deposit=50000\n",
        "  check_balance+=deposit\n",
        "  return check_balance\n",
        "\n",
        "def withdraw_money():\n",
        "  global check_balance\n",
        "  withdraw=float(input(\"Please enter the amount to withdraw: \"))\n",
        "  if withdraw <= check_balance:\n",
        "      check_balance -= withdraw\n",
        "      print(f\"${withdraw:.2f} withdrawn successfully.\")\n",
        "      return check_balance\n",
        "  else:\n",
        "    print(\"Not enough funds to withdraw\")\n",
        "    return check_balance\n",
        "\n",
        "\n",
        "def main():\n",
        "        print(\"\\nWelcome to Raman's bank, please choose from the options below: \")\n",
        "        selection = int(input(\"1. Check balance \\n2. Deposit Money\\n3. Withdraw Money\\n4. Exit\\n\"))\n",
        "\n",
        "        if selection == 1:\n",
        "            print(f\"Your balance is: ${check_balance:.2f}\")\n",
        "        elif selection == 2:\n",
        "            amt=float(input(\"please enter the amount you would like to deposit: \"))\n",
        "            print(f\"Deposit amount is:{deposit_money}\")\n",
        "        elif selection == 3:\n",
        "            withdraw_money()\n",
        "        elif selection == 4:\n",
        "            print(\"Thank you for using Raman's bank. Goodbye!\")\n",
        "        else:\n",
        "            print(\"Invalid selection. Please choose an option from 1 to 4.\")\n",
        "\n",
        "main()\n",
        "\n"
      ],
      "metadata": {
        "colab": {
          "base_uri": "https://localhost:8080/"
        },
        "collapsed": true,
        "id": "VJGokyrOX5ea",
        "outputId": "c9a0b2ad-2295-4da8-a6f0-85d22c2159b2"
      },
      "execution_count": 1,
      "outputs": [
        {
          "output_type": "stream",
          "name": "stdout",
          "text": [
            "\n",
            "Welcome to Raman's bank, please choose from the options below: \n",
            "1. Check balance \n",
            "2. Deposit Money\n",
            "3. Withdraw Money\n",
            "4. Exit\n",
            "2\n",
            "Deposit amount is:<function deposit_money at 0x7aa4a2699cf0>\n"
          ]
        }
      ]
    }
  ]
}